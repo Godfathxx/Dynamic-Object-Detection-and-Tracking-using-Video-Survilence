{
  "nbformat": 4,
  "nbformat_minor": 0,
  "metadata": {
    "colab": {
      "provenance": [],
      "toc_visible": true,
      "authorship_tag": "ABX9TyNMYCtyJflVBAl+kGbvt2f4",
      "include_colab_link": true
    },
    "kernelspec": {
      "name": "python3",
      "display_name": "Python 3"
    },
    "language_info": {
      "name": "python"
    }
  },
  "cells": [
    {
      "cell_type": "markdown",
      "metadata": {
        "id": "view-in-github",
        "colab_type": "text"
      },
      "source": [
        "<a href=\"https://colab.research.google.com/github/Nayan-Bebale/object-detection-models-hub/blob/main/SSD_Mobilenet.ipynb\" target=\"_parent\"><img src=\"https://colab.research.google.com/assets/colab-badge.svg\" alt=\"Open In Colab\"/></a>"
      ]
    },
    {
      "cell_type": "markdown",
      "source": [
        "# SSD-Mobilenet Model"
      ],
      "metadata": {
        "id": "3w28_VXKqkY6"
      }
    },
    {
      "cell_type": "markdown",
      "source": [
        "## Step 1\n",
        "Install tensorflow version 2 or higher"
      ],
      "metadata": {
        "id": "KOtTj4DXq0XC"
      }
    },
    {
      "cell_type": "code",
      "execution_count": null,
      "metadata": {
        "id": "byJKqyywqQlF"
      },
      "outputs": [],
      "source": [
        "!pip install -U --pre tensorflow==\"2.*\""
      ]
    },
    {
      "cell_type": "markdown",
      "source": [
        "## Step 2\n",
        "make sure to install pycocotools for coco detection API."
      ],
      "metadata": {
        "id": "UCbyc6hGrKNx"
      }
    },
    {
      "cell_type": "code",
      "source": [
        "!pip install pycocotools"
      ],
      "metadata": {
        "id": "xb8R0eolq3-v"
      },
      "execution_count": null,
      "outputs": []
    },
    {
      "cell_type": "markdown",
      "source": [
        "## Step 3\n",
        "get tensorflow/models by cloning the repository."
      ],
      "metadata": {
        "id": "H8b4DCjbrPn0"
      }
    },
    {
      "cell_type": "code",
      "source": [
        "import os\n",
        "import pathlib\n",
        "\n",
        "if \"models\" in pathlib.Path.cwd().parts:\n",
        "  while \"models\" in pathlib.Path.cwd().parts:\n",
        "    os.chdir('..')\n",
        "elif not pathlib.Path('models').exists():\n",
        "  !git clone --depth 1 https://github.com/tensorflow/models"
      ],
      "metadata": {
        "id": "DKCnBuYwrExQ"
      },
      "execution_count": null,
      "outputs": []
    },
    {
      "cell_type": "markdown",
      "source": [
        "move (cd) to research directory of the repo"
      ],
      "metadata": {
        "id": "1oqCZEQTrXfc"
      }
    },
    {
      "cell_type": "code",
      "source": [
        "cd models/research"
      ],
      "metadata": {
        "id": "vhcwUA4S0e4w"
      },
      "execution_count": null,
      "outputs": []
    },
    {
      "cell_type": "markdown",
      "source": [
        "## Step 4\n",
        "compile protobufs"
      ],
      "metadata": {
        "id": "U9gqUugura3S"
      }
    },
    {
      "cell_type": "code",
      "source": [
        "!protoc object_detection/protos/*.proto --python_out=."
      ],
      "metadata": {
        "id": "nxSfhSxgrTHV"
      },
      "execution_count": null,
      "outputs": []
    },
    {
      "cell_type": "markdown",
      "source": [
        "install object_detection python package"
      ],
      "metadata": {
        "id": "EDNSvQjs0mws"
      }
    },
    {
      "cell_type": "code",
      "source": [
        "!pip install object_detection"
      ],
      "metadata": {
        "id": "WIjU5IvRrecN"
      },
      "execution_count": null,
      "outputs": []
    },
    {
      "cell_type": "markdown",
      "source": [
        "## Step 5\n",
        " import required libraries"
      ],
      "metadata": {
        "id": "6Ck5OZIW0vJT"
      }
    },
    {
      "cell_type": "code",
      "source": [
        "import numpy as np\n",
        "import os\n",
        "import six.moves.urllib as urllib\n",
        "import sys\n",
        "import tarfile\n",
        "import tensorflow as tf\n",
        "import zipfile\n",
        "\n",
        "from collections import defaultdict\n",
        "from io import StringIO\n",
        "from matplotlib import pyplot as plt\n",
        "from PIL import Image\n",
        "from IPython.display import display"
      ],
      "metadata": {
        "id": "NKJrHiIO0sBt"
      },
      "execution_count": null,
      "outputs": []
    },
    {
      "cell_type": "markdown",
      "source": [
        "install tf_slim python package:"
      ],
      "metadata": {
        "id": "uwN6twae0_Z0"
      }
    },
    {
      "cell_type": "code",
      "source": [
        "!pip install tf_slim"
      ],
      "metadata": {
        "id": "aGDajqk204dA"
      },
      "execution_count": null,
      "outputs": []
    },
    {
      "cell_type": "markdown",
      "source": [
        "import object detection modules:"
      ],
      "metadata": {
        "id": "4RUSBqJT1G-O"
      }
    },
    {
      "cell_type": "code",
      "source": [
        "from object_detection.utils import ops as utils_ops\n",
        "from object_detection.utils import label_map_util\n",
        "from object_detection.utils import visualization_utils as vis_util"
      ],
      "metadata": {
        "id": "LrF2MeEf1Df5"
      },
      "execution_count": null,
      "outputs": []
    },
    {
      "cell_type": "markdown",
      "source": [
        "## step 6\n",
        "function to load your model"
      ],
      "metadata": {
        "id": "svrzaCIu1O0d"
      }
    },
    {
      "cell_type": "code",
      "source": [
        "def load_model(model_name):\n",
        "  base_url = 'http://download.tensorflow.org/models/object_detection/'\n",
        "  model_file = model_name + '.tar.gz'\n",
        "  model_dir = tf.keras.utils.get_file(\n",
        "    fname=model_name,\n",
        "    origin=base_url + model_file,\n",
        "    untar=True)\n",
        "\n",
        "  model_dir = pathlib.Path(model_dir)/\"saved_model\"\n",
        "\n",
        "  model = tf.saved_model.load(str(model_dir))\n",
        "  model = model.signatures['serving_default']\n",
        "\n",
        "  return model"
      ],
      "metadata": {
        "id": "keMj7AcF1KRH"
      },
      "execution_count": null,
      "outputs": []
    },
    {
      "cell_type": "code",
      "source": [
        "PATH_TO_LABELS = 'object_detection/data/mscoco_label_map.pbtxt'\n",
        "category_index = label_map_util.create_category_index_from_labelmap(PATH_TO_LABELS, use_display_name=True)"
      ],
      "metadata": {
        "id": "jBFOfo9a1UMG"
      },
      "execution_count": null,
      "outputs": []
    },
    {
      "cell_type": "code",
      "source": [
        "PATH_TO_TEST_IMAGES_DIR = pathlib.Path('object_detection/test_images')\n",
        "TEST_IMAGE_PATHS = sorted(list(PATH_TO_TEST_IMAGES_DIR.glob(\"*.jpg\")))\n",
        "TEST_IMAGE_PATHS"
      ],
      "metadata": {
        "id": "EninRIHG1XIk"
      },
      "execution_count": null,
      "outputs": []
    },
    {
      "cell_type": "markdown",
      "source": [
        "## step 7\n",
        "load your object detection SSD mobilenet v1 model for object detection"
      ],
      "metadata": {
        "id": "qhEAZGp81dq0"
      }
    },
    {
      "cell_type": "code",
      "source": [
        "model_name = 'ssd_mobilenet_v1_coco_2017_11_17'\n",
        "detection_model = load_model(model_name)"
      ],
      "metadata": {
        "id": "lYw42j-Y1Z2g"
      },
      "execution_count": null,
      "outputs": []
    },
    {
      "cell_type": "code",
      "source": [
        "print(detection_model.inputs)\n",
        "detection_model.output_dtypes"
      ],
      "metadata": {
        "id": "IZHoUKjg17Al"
      },
      "execution_count": null,
      "outputs": []
    },
    {
      "cell_type": "code",
      "source": [
        "def run_inference_for_single_image(model, image):\n",
        "    image = np.asarray(image)\n",
        "    input_tensor = tf.convert_to_tensor(image)\n",
        "    input_tensor = input_tensor[tf.newaxis, ...]\n",
        "\n",
        "    output_dict = model(input_tensor)\n",
        "\n",
        "    num_detections = int(output_dict.pop('num_detections'))\n",
        "\n",
        "    output_dict = {\n",
        "        key: value[0, :num_detections].numpy()\n",
        "        for key, value in output_dict.items()\n",
        "    }\n",
        "\n",
        "    output_dict['num_detections'] = num_detections\n",
        "    output_dict['detection_classes'] = output_dict['detection_classes'].astype(np.int64)\n",
        "\n",
        "    if 'detection_masks' in output_dict:\n",
        "        detection_masks_reframed = utils_ops.reframe_box_masks_to_image_masks(\n",
        "            output_dict['detection_masks'],\n",
        "            output_dict['detection_boxes'],\n",
        "            image.shape[0],\n",
        "            image.shape[1]\n",
        "        )\n",
        "\n",
        "        detection_masks_reframed = tf.cast(detection_masks_reframed > 0.5, tf.uint8)\n",
        "        output_dict['detection_masks_reframed'] = detection_masks_reframed.numpy()\n",
        "\n",
        "    return output_dict"
      ],
      "metadata": {
        "id": "aix-ed0j2DT3"
      },
      "execution_count": null,
      "outputs": []
    },
    {
      "cell_type": "markdown",
      "source": [
        "## step 8"
      ],
      "metadata": {
        "id": "Rsj0443z3FPF"
      }
    },
    {
      "cell_type": "code",
      "source": [
        "def show_inference(model, image_path, class_id):\n",
        "    image_np = np.array(Image.open(image_path))\n",
        "    output_dict = run_inference_for_single_image(model, image_np)\n",
        "\n",
        "    boxes = []\n",
        "    classes = []\n",
        "    scores = []\n",
        "\n",
        "    for i, x in enumerate(output_dict['detection_classes']):\n",
        "        if x == class_id and output_dict['detection_scores'][i] > 0.5:\n",
        "            classes.append(x)\n",
        "            boxes.append(output_dict['detection_boxes'][i])\n",
        "            scores.append(output_dict['detection_scores'][i])\n",
        "\n",
        "    boxes = np.array(boxes)\n",
        "    classes = np.array(classes)\n",
        "    scores = np.array(scores)\n",
        "\n",
        "    vis_util.visualize_boxes_and_labels_on_image_array(\n",
        "        image_np,\n",
        "        boxes,\n",
        "        classes,\n",
        "        scores,\n",
        "        category_index,\n",
        "        instance_masks=output_dict.get('detection_masks_reframed', None),\n",
        "        use_normalized_coordinates=True,\n",
        "        line_thickness=2\n",
        "    )\n",
        "\n",
        "    display(Image.fromarray(image_np))"
      ],
      "metadata": {
        "id": "a3ahm1gE2HDz"
      },
      "execution_count": null,
      "outputs": []
    },
    {
      "cell_type": "markdown",
      "source": [
        "## step 9"
      ],
      "metadata": {
        "id": "tWQZCvyn3b7p"
      }
    },
    {
      "cell_type": "markdown",
      "source": [
        "the **class_id** in your code should represent a specific class of object (such as a person, car, etc.) from the COCO dataset, which contains 80 classes of common objects. You need to define class_id before using it in the show_inference function."
      ],
      "metadata": {
        "id": "Aq-unYdj5hmd"
      }
    },
    {
      "cell_type": "code",
      "source": [
        "class_id = 1  # For example, 1 represents 'person' in the COCO dataset\n",
        "for image_path in TEST_IMAGE_PATHS:\n",
        "    show_inference(detection_model, image_path, class_id)"
      ],
      "metadata": {
        "id": "nEkRJcca3Xn9"
      },
      "execution_count": null,
      "outputs": []
    },
    {
      "cell_type": "code",
      "source": [
        "for image_path in TEST_IMAGE_PATHS:\n",
        "  show_inference(detection_model, image_path, 18)"
      ],
      "metadata": {
        "id": "-TmjUqDd3gIJ"
      },
      "execution_count": null,
      "outputs": []
    },
    {
      "cell_type": "markdown",
      "source": [
        "## Step 10\n",
        "\n",
        "If you want to detect all objects in the image, you don't need to filter by class_id. You can modify the show_inference function to avoid filtering by any specific class. This way, it will display all detected objects with a confidence score above a certain threshold (e.g., 0.5)."
      ],
      "metadata": {
        "id": "DXUCcfNl6Xer"
      }
    },
    {
      "cell_type": "code",
      "source": [
        "def show_inference_all(model, image_path):\n",
        "    image_np = np.array(Image.open(image_path))\n",
        "    output_dict = run_inference_for_single_image(model, image_np)\n",
        "\n",
        "    boxes = []\n",
        "    classes = []\n",
        "    scores = []\n",
        "\n",
        "    for i, score in enumerate(output_dict['detection_scores']):\n",
        "        if score > 0.5:  # Only show objects with detection scores above the threshold\n",
        "            classes.append(output_dict['detection_classes'][i])\n",
        "            boxes.append(output_dict['detection_boxes'][i])\n",
        "            scores.append(score)\n",
        "\n",
        "    boxes = np.array(boxes)\n",
        "    classes = np.array(classes)\n",
        "    scores = np.array(scores)\n",
        "\n",
        "    vis_util.visualize_boxes_and_labels_on_image_array(\n",
        "        image_np,\n",
        "        boxes,\n",
        "        classes,\n",
        "        scores,\n",
        "        category_index,\n",
        "        instance_masks=output_dict.get('detection_masks_reframed', None),\n",
        "        use_normalized_coordinates=True,\n",
        "        line_thickness=2\n",
        "    )\n",
        "\n",
        "    display(Image.fromarray(image_np))"
      ],
      "metadata": {
        "id": "lCUkUIAt5T1i"
      },
      "execution_count": null,
      "outputs": []
    },
    {
      "cell_type": "code",
      "source": [
        "for image_path in TEST_IMAGE_PATHS:\n",
        "    show_inference_all(detection_model, image_path)  # No class_id needed"
      ],
      "metadata": {
        "id": "Dspfve5q6wAd"
      },
      "execution_count": null,
      "outputs": []
    },
    {
      "cell_type": "code",
      "source": [],
      "metadata": {
        "id": "zy3u4eEj60Mp"
      },
      "execution_count": null,
      "outputs": []
    }
  ]
}