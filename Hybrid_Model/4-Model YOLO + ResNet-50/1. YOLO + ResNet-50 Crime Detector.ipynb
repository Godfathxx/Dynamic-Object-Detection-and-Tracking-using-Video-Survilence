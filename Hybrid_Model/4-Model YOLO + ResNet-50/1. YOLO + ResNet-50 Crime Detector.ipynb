{
 "cells": [
  {
   "cell_type": "markdown",
   "metadata": {},
   "source": [
    "# YOLO+ResNet-50 based Crime Detection System:"
   ]
  },
  {
   "cell_type": "code",
   "execution_count": 1,
   "metadata": {
    "ExecuteTime": {
     "end_time": "2021-05-13T09:57:32.191435Z",
     "start_time": "2021-05-13T09:57:31.994448Z"
    },
    "code_folding": []
   },
   "outputs": [
    {
     "data": {
      "text/plain": [
       "['model_supernew_large_8th_may.h5', 'model_supernew_small_8th_may.h5']"
      ]
     },
     "execution_count": 1,
     "metadata": {},
     "output_type": "execute_result"
    }
   ],
   "source": [
    "# PART-1: Define all the functions which will combine both yolo and crime detection model\n",
    "import cv2\n",
    "import numpy as np\n",
    "import time\n",
    "\n",
    "def dateTimeNow():\n",
    "    day=str(time.localtime().tm_mday)\n",
    "    mon=str(time.localtime().tm_mon)\n",
    "    yer=str(time.localtime().tm_year)\n",
    "    tim=str(time.localtime().tm_hour)+\"-\"+str(time.localtime().tm_min)+\"-\"+str(time.localtime().tm_sec)\n",
    "    return day+\"-\"+mon+\"-\"+yer+\"_\"+tim\n",
    "\n",
    "\n",
    "def saveEvidence(frame, taken=0, limit_left=20):\n",
    "    if taken<limit_left:\n",
    "        time=dateTimeNow()\n",
    "        cv2.imwrite(f\"./Security/evidence_{time}.jpg\", frame)\n",
    "\n",
    "\n",
    "def setState(pred):\n",
    "    ret = None\n",
    "    if pred>0.4:\n",
    "        ret = \"Crime\"\n",
    "    else:\n",
    "        ret = \"Normal\"\n",
    "        \n",
    "    return f\"{ret} ({round(pred*100, 3)}%)\"\n",
    "\n",
    "\n",
    "def makePrediction(video, folder, model, color=\"green\", buffer_size=90, yolo_version=4, tiny=True, min_conf=0.1):\n",
    "    \n",
    "    VERSION = yolo_version\n",
    "    TINY = tiny\n",
    "    snaps = 0\n",
    "    \n",
    "    colors = {\n",
    "        \"black\": (0, 0, 0),\n",
    "        \"white\": (255, 255, 255),\n",
    "        \"red\": (0, 0, 255),\n",
    "        \"green\": (0, 255, 0),\n",
    "        \"blue\": (255, 0, 0),\n",
    "    }\n",
    "    \n",
    "    selected_color=colors[color]\n",
    "\n",
    "    if TINY:\n",
    "        net = cv2.dnn.readNet(\n",
    "            f\"./YOLO Weights and Configs/yolov{VERSION}-tiny.weights\",\n",
    "            f\"./YOLO Weights and Configs/yolov{VERSION}-tiny.cfg\"\n",
    "        )\n",
    "    else:\n",
    "        net = cv2.dnn.readNet(f\"yolov{VERSION}.weights\",f\"yolov{VERSION}.cfg\")\n",
    "\n",
    "    classes = []\n",
    "    with open(\"./YOLO Weights and Configs/coco.names\",\"r\") as f:\n",
    "        classes = [line.strip() for line in f.readlines()]\n",
    "    \n",
    "    buffer = []\n",
    "    prev_pred = \"NaN\"\n",
    "\n",
    "    layer_names = net.getLayerNames()\n",
    "    outputlayers = [layer_names[i[0] - 1] for i in net.getUnconnectedOutLayers()]\n",
    "\n",
    "\n",
    "    colors= np.random.uniform(0,255,size=(len(classes),3))\n",
    "\n",
    "    cap=cv2.VideoCapture(f\"./Videos/{folder}/{video}\")\n",
    "\n",
    "    while True:\n",
    "        state = f\"Human Detection: False; State: {prev_pred}\"\n",
    "        ret,frame= cap.read() \n",
    "\n",
    "        if ret==True:\n",
    "            height,width,channels = frame.shape\n",
    "            blob = cv2.dnn.blobFromImage(frame,0.00392,(320,320),(0,0,0),True,crop=False)    \n",
    "\n",
    "            net.setInput(blob)\n",
    "            outs = net.forward(outputlayers)\n",
    "\n",
    "            class_ids=[]\n",
    "            confidences=[]\n",
    "            boxes=[]\n",
    "\n",
    "            for out in outs:\n",
    "                for detection in out:\n",
    "                    scores = detection[5:]\n",
    "                    class_id = np.argmax(scores)\n",
    "                    confidence = scores[class_id]\n",
    "\n",
    "                    # could modify this to meet your requirements\n",
    "                    if confidence > min_conf:\n",
    "                        #object detected\n",
    "                        center_x= int(detection[0]*width)\n",
    "                        center_y= int(detection[1]*height)\n",
    "                        w = int(detection[2]*width)\n",
    "                        h = int(detection[3]*height)\n",
    "\n",
    "                        #rectangle co-ordinaters\n",
    "                        x=int(center_x - w/2)\n",
    "                        y=int(center_y - h/2)\n",
    "\n",
    "                        boxes.append([x,y,w,h])\n",
    "                        confidences.append(float(confidence))\n",
    "                        class_ids.append(class_id)\n",
    "\n",
    "            indexes = cv2.dnn.NMSBoxes(boxes,confidences,0.4,0.6)\n",
    "\n",
    "            for i in range(len(boxes)):\n",
    "                if i in indexes:\n",
    "                    label = str(classes[class_ids[i]])\n",
    "                    confidence= confidences[i]\n",
    "\n",
    "                    if label==\"person\":\n",
    "                        x,y,w,h = boxes[i]\n",
    "\n",
    "                        # Custom code to do miscellaneous tasks (like predicting anomalies) can go down here\n",
    "                        out = frame.copy()\n",
    "                        out = cv2.cvtColor(out, cv2.COLOR_BGR2RGB)\n",
    "                        out = cv2.resize(out, (320, 240)).astype(\"float32\")\n",
    "                        \n",
    "                        pred = model.predict(np.expand_dims(out, axis=0))[0][0]\n",
    "                        \n",
    "                        # Save evidence\n",
    "                        if pred>0.8 and confidence>0.6:\n",
    "                            saveEvidence(frame, taken=snaps)\n",
    "                            snaps+=1\n",
    "                        \n",
    "                        # Update buffer for smoothing out predictions over time\n",
    "                        if len(buffer)<buffer_size:\n",
    "                            buffer.append(pred)\n",
    "                            temp = setState(pred)\n",
    "                        else:\n",
    "                            buffer.pop(0)\n",
    "                            buffer.append(pred)\n",
    "                            temp = setState(sum(buffer)/buffer_size)\n",
    "                        prev_pred = temp\n",
    "                        \n",
    "                        state = f\"Human Detection: True; State: {prev_pred}\"\n",
    "                        # Custom code ends\n",
    "\n",
    "                    color = colors[class_ids[i]]\n",
    "                    cv2.rectangle(frame,(x,y),(x+w,y+h),color,2)\n",
    "                    cv2.putText(frame,label+\":\"+str(round(confidence*100,2))+\"%\", (x, y-10), cv2.FONT_HERSHEY_SIMPLEX,0.4,(255,255,255),2)\n",
    "\n",
    "            cv2.putText(frame, state, (0,20), cv2.FONT_HERSHEY_SIMPLEX, 0.4, selected_color, 2)\n",
    "\n",
    "            cv2.imshow(\"Image\",frame)\n",
    "            key = cv2.waitKey(1)\n",
    "\n",
    "            if cv2.waitKey(1) & 0xFF==ord('q'):\n",
    "                break\n",
    "\n",
    "        else:\n",
    "            break\n",
    "\n",
    "\n",
    "\n",
    "    cap.release()\n",
    "    cv2.destroyAllWindows()\n",
    "    \n",
    "\n",
    "# PART-2: Import the video files\n",
    "import os\n",
    "\n",
    "testCrime = os.listdir(\"./Videos/Crime - From YT and Camera\")\n",
    "testNormal = os.listdir(\"./Videos/Normal - Full Video\")\n",
    "testCrimeRelevant = os.listdir(\"./Videos/Crime - Relevant\")\n",
    "testNormalFromCrime = os.listdir(\"./Videos/Normal From Crime\")\n",
    "\n",
    "models = [item for item in os.listdir(\"./Models\") if item[-3:]==\".h5\"]\n",
    "models"
   ]
  },
  {
   "cell_type": "code",
   "execution_count": 2,
   "metadata": {
    "ExecuteTime": {
     "end_time": "2021-05-13T09:58:14.457780Z",
     "start_time": "2021-05-13T09:58:01.742751Z"
    },
    "code_folding": []
   },
   "outputs": [],
   "source": [
    "# PART-3: Import tensorflow and load model\n",
    "import tensorflow as tf\n",
    "\n",
    "model_nos = 2\n",
    "model = tf.keras.models.load_model(f\"./models/{models[model_nos-1]}\")"
   ]
  },
  {
   "cell_type": "markdown",
   "metadata": {},
   "source": [
    "## 1. Test On Crime Videos"
   ]
  },
  {
   "cell_type": "code",
   "execution_count": 4,
   "metadata": {
    "ExecuteTime": {
     "end_time": "2021-05-13T11:05:34.306319Z",
     "start_time": "2021-05-13T11:05:19.818578Z"
    }
   },
   "outputs": [],
   "source": [
    "# tried: 5, 11, 17, 40, 25\n",
    "# wrong: 1\n",
    "\n",
    "folder = \"Crime - Relevant\"\n",
    "video_number=1\n",
    "\n",
    "makePrediction(\n",
    "    testCrimeRelevant[video_number-1], \n",
    "    folder, \n",
    "    model, \n",
    "    color=\"red\", \n",
    "    buffer_size=90, \n",
    "    yolo_version=4, \n",
    "    tiny=True, \n",
    "    min_conf=0.1\n",
    ")"
   ]
  },
  {
   "cell_type": "markdown",
   "metadata": {},
   "source": [
    "## 2. Test On Normal From Crime Videos"
   ]
  },
  {
   "cell_type": "code",
   "execution_count": 5,
   "metadata": {
    "ExecuteTime": {
     "end_time": "2021-05-13T11:06:10.256176Z",
     "start_time": "2021-05-13T11:05:48.001562Z"
    }
   },
   "outputs": [],
   "source": [
    "# tried: 4, 5, 6, 7, 13, 14, 32, 33\n",
    "# wrong: 12\n",
    "\n",
    "folder = \"Normal From Crime\"\n",
    "video_number=12\n",
    "\n",
    "makePrediction(\n",
    "    testNormalFromCrime[video_number-1], \n",
    "    folder, \n",
    "    model,\n",
    "    color=\"green\", \n",
    "    buffer_size=90, \n",
    "    yolo_version=4, \n",
    "    tiny=True, \n",
    "    min_conf=0.1\n",
    ")"
   ]
  },
  {
   "cell_type": "markdown",
   "metadata": {},
   "source": [
    "## 3. Test On Normal Videos"
   ]
  },
  {
   "cell_type": "code",
   "execution_count": 5,
   "metadata": {
    "ExecuteTime": {
     "end_time": "2021-05-13T05:10:22.560796Z",
     "start_time": "2021-05-13T05:10:12.732012Z"
    }
   },
   "outputs": [],
   "source": [
    "# tried: 43, 44, 10, 11\n",
    "# wrong: 12 (here and there)\n",
    "\n",
    "folder = \"Normal - Full Video\"\n",
    "video_number=43\n",
    "\n",
    "makePrediction(\n",
    "    testNormal[video_number-1], \n",
    "    folder, \n",
    "    model,\n",
    "    color=\"green\", \n",
    "    buffer_size=90, \n",
    "    yolo_version=4, \n",
    "    tiny=True, \n",
    "    min_conf=0.1\n",
    ")"
   ]
  },
  {
   "cell_type": "markdown",
   "metadata": {},
   "source": [
    "## 4. Test On Crime Videos From YouTube"
   ]
  },
  {
   "cell_type": "code",
   "execution_count": 6,
   "metadata": {
    "ExecuteTime": {
     "end_time": "2021-05-13T05:10:27.130523Z",
     "start_time": "2021-05-13T05:10:22.563786Z"
    }
   },
   "outputs": [],
   "source": [
    "# tried: 2\n",
    "# wrong: 1(partially)\n",
    "\n",
    "folder = \"Crime - From YT and Camera\"\n",
    "video_number=2\n",
    "\n",
    "makePrediction(\n",
    "    testCrime[video_number-1], \n",
    "    folder, \n",
    "    model,\n",
    "    color=\"green\", \n",
    "    buffer_size=90, \n",
    "    yolo_version=4, \n",
    "    tiny=True, \n",
    "    min_conf=0.1\n",
    ")"
   ]
  },
  {
   "cell_type": "code",
   "execution_count": null,
   "metadata": {},
   "outputs": [],
   "source": []
  }
 ],
 "metadata": {
  "kernelspec": {
   "display_name": "Python 3",
   "language": "python",
   "name": "python3"
  },
  "language_info": {
   "codemirror_mode": {
    "name": "ipython",
    "version": 3
   },
   "file_extension": ".py",
   "mimetype": "text/x-python",
   "name": "python",
   "nbconvert_exporter": "python",
   "pygments_lexer": "ipython3",
   "version": "3.8.5"
  },
  "toc": {
   "base_numbering": 1,
   "nav_menu": {},
   "number_sections": false,
   "sideBar": true,
   "skip_h1_title": false,
   "title_cell": "Table of Contents",
   "title_sidebar": "Contents",
   "toc_cell": false,
   "toc_position": {},
   "toc_section_display": true,
   "toc_window_display": false
  }
 },
 "nbformat": 4,
 "nbformat_minor": 4
}
