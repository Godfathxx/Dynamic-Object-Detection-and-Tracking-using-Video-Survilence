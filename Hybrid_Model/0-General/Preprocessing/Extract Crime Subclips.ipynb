{
 "cells": [
  {
   "cell_type": "code",
   "execution_count": null,
   "metadata": {
    "ExecuteTime": {
     "end_time": "2021-03-29T10:22:35.713850Z",
     "start_time": "2021-03-29T10:22:35.233807Z"
    }
   },
   "outputs": [],
   "source": [
    "import os\n",
    "import pandas as pd\n",
    "\n",
    "crime = [crime for crime in os.listdir(\"./Crime\")]\n",
    "df = pd.read_csv(\"./All.csv\")\n",
    "df.head()"
   ]
  },
  {
   "cell_type": "code",
   "execution_count": null,
   "metadata": {
    "ExecuteTime": {
     "end_time": "2021-03-29T10:22:35.761858Z",
     "start_time": "2021-03-29T10:22:35.715851Z"
    }
   },
   "outputs": [],
   "source": [
    "df = df[df[\"video\"].isin(crime)].reset_index(drop=True)\n",
    "\n",
    "infos = list(df.T.to_dict().values())\n",
    "infos"
   ]
  },
  {
   "cell_type": "code",
   "execution_count": null,
   "metadata": {
    "ExecuteTime": {
     "end_time": "2021-03-29T10:22:37.046523Z",
     "start_time": "2021-03-29T10:22:35.764852Z"
    }
   },
   "outputs": [],
   "source": [
    "from moviepy.editor import *\n",
    "\n",
    "def convertTime(time):\n",
    "    p1, p2 = time.split(\":\")\n",
    "    p1, p2=  int(p1), int(p2)\n",
    "    return p1*60+p2\n",
    "\n",
    "def trimVideo(data):\n",
    "    video = data[\"video\"]\n",
    "    vid = VideoFileClip(f\"./Crime/{video}\")\n",
    "    start, end = convertTime(data[\"start\"]), convertTime(data[\"end\"])\n",
    "    trim = vid.subclip(start, end)\n",
    "    trim.write_videofile(f\"./Crime - Subclips/{video}\", codec=\"libx264\")\n",
    "    \n",
    "    print(video, start, end)"
   ]
  },
  {
   "cell_type": "code",
   "execution_count": null,
   "metadata": {
    "ExecuteTime": {
     "end_time": "2021-03-29T10:41:25.833010Z",
     "start_time": "2021-03-29T10:22:37.046523Z"
    }
   },
   "outputs": [],
   "source": [
    "for info in infos:\n",
    "    trimVideo(info)"
   ]
  },
  {
   "cell_type": "code",
   "execution_count": null,
   "metadata": {},
   "outputs": [],
   "source": []
  }
 ],
 "metadata": {
  "kernelspec": {
   "display_name": "Python 3",
   "language": "python",
   "name": "python3"
  },
  "language_info": {
   "codemirror_mode": {
    "name": "ipython",
    "version": 3
   },
   "file_extension": ".py",
   "mimetype": "text/x-python",
   "name": "python",
   "nbconvert_exporter": "python",
   "pygments_lexer": "ipython3",
   "version": "3.8.5"
  },
  "toc": {
   "base_numbering": 1,
   "nav_menu": {},
   "number_sections": false,
   "sideBar": true,
   "skip_h1_title": false,
   "title_cell": "Table of Contents",
   "title_sidebar": "Contents",
   "toc_cell": false,
   "toc_position": {},
   "toc_section_display": true,
   "toc_window_display": false
  }
 },
 "nbformat": 4,
 "nbformat_minor": 4
}
